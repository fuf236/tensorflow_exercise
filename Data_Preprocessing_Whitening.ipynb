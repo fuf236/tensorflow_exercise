{
 "cells": [
  {
   "cell_type": "code",
   "execution_count": 34,
   "metadata": {
    "collapsed": true,
    "deletable": true,
    "editable": true
   },
   "outputs": [],
   "source": [
    "import numpy as np"
   ]
  },
  {
   "cell_type": "code",
   "execution_count": 35,
   "metadata": {
    "collapsed": false,
    "deletable": true,
    "editable": true
   },
   "outputs": [
    {
     "name": "stdout",
     "output_type": "stream",
     "text": [
      "Extracting MNIST_data/train-images-idx3-ubyte.gz\n",
      "Extracting MNIST_data/train-labels-idx1-ubyte.gz\n",
      "Extracting MNIST_data/t10k-images-idx3-ubyte.gz\n",
      "Extracting MNIST_data/t10k-labels-idx1-ubyte.gz\n"
     ]
    }
   ],
   "source": [
    "import tensorflow as tf\n",
    "from tensorflow.examples.tutorials.mnist import input_data\n",
    "mnist=input_data.read_data_sets(\"MNIST_data/\",one_hot=True)"
   ]
  },
  {
   "cell_type": "code",
   "execution_count": 36,
   "metadata": {
    "collapsed": true,
    "deletable": true,
    "editable": true
   },
   "outputs": [],
   "source": [
    "import matplotlib.pyplot as plt\n",
    "import matplotlib.image as mpimg"
   ]
  },
  {
   "cell_type": "code",
   "execution_count": 37,
   "metadata": {
    "collapsed": true,
    "deletable": true,
    "editable": true
   },
   "outputs": [],
   "source": [
    "def svd_whitening(images,epsilon):\n",
    "    #images is NxD matrix N: number of data and D: dimenson of image\n",
    "    #epsilon is very small number that prevents divding by zero\n",
    "    images = images - np.mean(images,axis=0)\n",
    "    cov = np.dot(images.T,images)/images.shape[0]\n",
    "    U,S,V = np.linalg.svd(cov)\n",
    "    images_Rot = np.dot(images,U)\n",
    "    images_white = images_Rot/np.sqrt(S+epsilon)\n",
    "    return images_white"
   ]
  },
  {
   "cell_type": "code",
   "execution_count": 38,
   "metadata": {
    "collapsed": true,
    "deletable": true,
    "editable": true
   },
   "outputs": [],
   "source": [
    "def display_images(images,display_number):\n",
    "    image_size = images.shape\n",
    "    print(image_size)\n",
    "    number_to_show = np.random.randint(1,image_size[0]+1,size=display_number)\n",
    "    print(number_to_show)\n",
    "    \n",
    "    for i in number_to_show:\n",
    "        pixels = images[i,:]\n",
    "        pixels = np.array(pixels)\n",
    "        pixels = pixels.reshape((28,28))\n",
    "        \n",
    "        plt.title(mnist.test.labels[i])\n",
    "        plt.imshow(pixels,cmap='gray')\n",
    "        plt.show()"
   ]
  },
  {
   "cell_type": "code",
   "execution_count": 39,
   "metadata": {
    "collapsed": true,
    "deletable": true,
    "editable": true
   },
   "outputs": [],
   "source": [
    "def display_ternsorflow_variables(envs):\n",
    "    with tf.Session() as sess:\n",
    "        sess.run(tf.global_variables_initializer())\n",
    "        print(sess.run(envs))"
   ]
  },
  {
   "cell_type": "code",
   "execution_count": 40,
   "metadata": {
    "collapsed": false,
    "deletable": true,
    "editable": true
   },
   "outputs": [],
   "source": [
    "def init_weights(shape):\n",
    "    return tf.Variable(tf.random_normal(shape,stddev=0.01))"
   ]
  },
  {
   "cell_type": "code",
   "execution_count": 41,
   "metadata": {
    "collapsed": true,
    "deletable": true,
    "editable": true
   },
   "outputs": [],
   "source": [
    "learning_rate = 0.01\n",
    "training_epochs = 25\n",
    "batch_size = 100"
   ]
  },
  {
   "cell_type": "code",
   "execution_count": 42,
   "metadata": {
    "collapsed": true,
    "deletable": true,
    "editable": true
   },
   "outputs": [],
   "source": [
    "x = tf.placeholder(\"float32\",[None,784])\n",
    "y = tf.placeholder(\"float32\",[None,10])"
   ]
  },
  {
   "cell_type": "code",
   "execution_count": 43,
   "metadata": {
    "collapsed": false,
    "deletable": true,
    "editable": true
   },
   "outputs": [],
   "source": [
    "W = init_weights([784,10])\n",
    "b = init_weights([10])"
   ]
  },
  {
   "cell_type": "code",
   "execution_count": 51,
   "metadata": {
    "collapsed": false
   },
   "outputs": [],
   "source": [
    "hypothesis = tf.nn.softmax(tf.matmul(x,W)+b)\n",
    "epsilon = tf.constant(0.00001)\n",
    "activation = hypothesis+epsilon"
   ]
  },
  {
   "cell_type": "code",
   "execution_count": 52,
   "metadata": {
    "collapsed": true,
    "deletable": true,
    "editable": true
   },
   "outputs": [],
   "source": [
    "cost = tf.reduce_mean(-tf.reduce_sum(y*tf.log(activation),reduction_indices=1))\n",
    "optimizer = tf.train.AdamOptimizer(learning_rate).minimize(cost)"
   ]
  },
  {
   "cell_type": "code",
   "execution_count": 64,
   "metadata": {
    "collapsed": false,
    "deletable": true,
    "editable": true
   },
   "outputs": [
    {
     "name": "stdout",
     "output_type": "stream",
     "text": [
      "epoch: 1 cost= 0.335440001908\n",
      "epoch: 2 cost= 0.280434470962\n",
      "epoch: 3 cost= 0.270825591372\n",
      "epoch: 4 cost= 0.261908729469\n",
      "epoch: 5 cost= 0.255700813464\n",
      "epoch: 6 cost= 0.2534448709\n",
      "epoch: 7 cost= 0.25544003003\n",
      "epoch: 8 cost= 0.249839808413\n",
      "epoch: 9 cost= 0.251918815544\n",
      "epoch: 10 cost= 0.247253869806\n",
      "epoch: 11 cost= 0.254164400107\n",
      "epoch: 12 cost= 0.242071551884\n",
      "epoch: 13 cost= 0.239325527952\n",
      "epoch: 14 cost= 0.244899876626\n",
      "epoch: 15 cost= 0.24552032426\n",
      "epoch: 16 cost= 0.23588534893\n",
      "epoch: 17 cost= 0.241261949336\n",
      "epoch: 18 cost= 0.244216732986\n",
      "epoch: 19 cost= 0.237653615617\n",
      "epoch: 20 cost= 0.235924265899\n",
      "epoch: 21 cost= 0.241560477235\n",
      "epoch: 22 cost= 0.230606254624\n",
      "epoch: 23 cost= 0.247159188844\n",
      "epoch: 24 cost= 0.236996485659\n",
      "epoch: 25 cost= 0.234835868986\n",
      "opt finished\n",
      "0.9191\n"
     ]
    }
   ],
   "source": [
    "with tf.Session() as sess:\n",
    "    sess.run(tf.global_variables_initializer())\n",
    "    \n",
    "    for epoch in range(training_epochs):\n",
    "        avg_cost = 0\n",
    "        total_batch = int(mnist.train.num_examples/batch_size)\n",
    "        \n",
    "        for i in range(total_batch):\n",
    "            batch_xs,batch_ys = mnist.train.next_batch(batch_size)\n",
    "            #whitened_batch = svd_whitening(batch_xs,1e-5)\n",
    "            sess.run(optimizer,feed_dict={x:batch_xs, y:batch_ys})\n",
    "            avg_cost += sess.run(cost, feed_dict={x:batch_xs, y:batch_ys})/total_batch\n",
    "        \n",
    "        print('epoch:',epoch+1,'cost=',avg_cost)\n",
    "    print('opt finished')\n",
    "    \n",
    "    correction_prediction = tf.equal(tf.argmax(activation,1),tf.argmax(y,1))\n",
    "\n",
    "    accuracy = tf.reduce_mean(tf.cast(correction_prediction,\"float\"))\n",
    "\n",
    "    print(accuracy.eval({x:mnist.test.images,y:mnist.test.labels}))"
   ]
  },
  {
   "cell_type": "code",
   "execution_count": 62,
   "metadata": {
    "collapsed": false
   },
   "outputs": [
    {
     "data": {
      "text/plain": [
       "(100, 784)"
      ]
     },
     "execution_count": 62,
     "metadata": {},
     "output_type": "execute_result"
    }
   ],
   "source": [
    "batch_xs,batch_ys = mnist.train.next_batch(batch_size)\n",
    "batch_xs.shape"
   ]
  }
 ],
 "metadata": {
  "kernelspec": {
   "display_name": "Python 3",
   "language": "python",
   "name": "python3"
  },
  "language_info": {
   "codemirror_mode": {
    "name": "ipython",
    "version": 3
   },
   "file_extension": ".py",
   "mimetype": "text/x-python",
   "name": "python",
   "nbconvert_exporter": "python",
   "pygments_lexer": "ipython3",
   "version": "3.5.2"
  }
 },
 "nbformat": 4,
 "nbformat_minor": 2
}
